{
 "cells": [
  {
   "cell_type": "markdown",
   "id": "ccefed0d",
   "metadata": {},
   "source": [
    "# Importing Libraries"
   ]
  },
  {
   "cell_type": "code",
   "execution_count": 1,
   "id": "7a7828be",
   "metadata": {},
   "outputs": [],
   "source": [
    "import numpy as np\n",
    "import pandas as pd\n",
    "import seaborn as sns\n",
    "import matplotlib.pyplot as plt\n",
    "from statsmodels.tsa.seasonal import seasonal_decompose, STL\n",
    "from sklearn.model_selection import train_test_split\n",
    "from sklearn.ensemble import RandomForestClassifier\n",
    "from sklearn.metrics import accuracy_score, precision_score, recall_score, f1_score, roc_auc_score, confusion_matrix\n",
    "from statsmodels.tsa.statespace.sarimax import SARIMAX\n",
    "from sklearn.metrics import mean_squared_error"
   ]
  },
  {
   "cell_type": "markdown",
   "id": "88cc5d04",
   "metadata": {},
   "source": [
    "# Loading the saved dataset"
   ]
  },
  {
   "cell_type": "code",
   "execution_count": 2,
   "id": "ffd15cb7",
   "metadata": {},
   "outputs": [
    {
     "name": "stdout",
     "output_type": "stream",
     "text": [
      "                   datetime  temp  humidity  solarenergy  hour  day_of_week  \\\n",
      "0       2000-01-01 00:00:00   5.9     98.63     0.439357     0            5   \n",
      "1       2000-01-01 01:00:00   6.4     96.12     0.439357     1            5   \n",
      "2       2000-01-01 02:00:00   6.6     98.31     0.439357     2            5   \n",
      "3       2000-01-01 03:00:00   7.2     95.92     0.439357     3            5   \n",
      "4       2000-01-01 04:00:00   7.2     96.38     0.439357     4            5   \n",
      "...                     ...   ...       ...          ...   ...          ...   \n",
      "188019  2024-01-05 05:00:00   5.2     92.17     0.000000     5            4   \n",
      "188020  2024-01-05 06:00:00   5.2     92.40     0.000000     6            4   \n",
      "188021  2024-01-05 07:00:00   5.5     89.64     0.000000     7            4   \n",
      "188022  2024-01-05 08:00:00   5.8     88.93     0.000000     8            4   \n",
      "188023  2024-01-05 09:00:00   6.0     88.83     0.000000     9            4   \n",
      "\n",
      "        month  energy_surplus_next_day  energy_surplus  \n",
      "0           1                 0.439357               1  \n",
      "1           1                 0.439357               1  \n",
      "2           1                 0.439357               1  \n",
      "3           1                 0.439357               1  \n",
      "4           1                 0.439357               1  \n",
      "...       ...                      ...             ...  \n",
      "188019      1                      NaN               0  \n",
      "188020      1                      NaN               0  \n",
      "188021      1                      NaN               0  \n",
      "188022      1                      NaN               0  \n",
      "188023      1                      NaN               0  \n",
      "\n",
      "[188024 rows x 9 columns]\n"
     ]
    }
   ],
   "source": [
    "# Load the CSV file into a DataFrame\n",
    "data1 = pd.read_csv(\"colchester_exploration_preprocessed_data.csv\")\n",
    "print(data1)"
   ]
  },
  {
   "cell_type": "code",
   "execution_count": 3,
   "id": "ae678a9d",
   "metadata": {},
   "outputs": [],
   "source": [
    "# # defining the Data for input features and target variables\n",
    "X = data1.drop([ 'datetime','hour', 'day_of_week', 'month', 'energy_surplus_next_day', 'energy_surplus'], axis=1)\n",
    "y = data1['energy_surplus']"
   ]
  },
  {
   "cell_type": "code",
   "execution_count": 4,
   "id": "f79d7253",
   "metadata": {},
   "outputs": [
    {
     "name": "stdout",
     "output_type": "stream",
     "text": [
      "Preprocessed Data:\n",
      "   temp  humidity  solarenergy\n",
      "0   5.9     98.63     0.439357\n",
      "1   6.4     96.12     0.439357\n",
      "2   6.6     98.31     0.439357\n",
      "3   7.2     95.92     0.439357\n",
      "4   7.2     96.38     0.439357\n",
      "0    1\n",
      "1    1\n",
      "2    1\n",
      "3    1\n",
      "4    1\n",
      "Name: energy_surplus, dtype: int64\n"
     ]
    }
   ],
   "source": [
    "# Display the preprocessed dataset\n",
    "print(\"Preprocessed Data:\")\n",
    "print(X.head())\n",
    "print(y.head())"
   ]
  },
  {
   "cell_type": "code",
   "execution_count": 5,
   "id": "a418e23b",
   "metadata": {},
   "outputs": [],
   "source": [
    "# Data Splitting\n",
    "# Spliting the data into training and testing sets\n",
    "X_train, X_test, y_train, y_test = train_test_split(X, y, test_size=0.2, random_state=42)"
   ]
  },
  {
   "cell_type": "markdown",
   "id": "485d893a",
   "metadata": {},
   "source": [
    "# Modeling"
   ]
  },
  {
   "cell_type": "markdown",
   "id": "fca0d727",
   "metadata": {},
   "source": [
    "Here we are modelling with Random Forest Classifier and SARIMAX "
   ]
  },
  {
   "cell_type": "code",
   "execution_count": 6,
   "id": "cca05fef",
   "metadata": {},
   "outputs": [
    {
     "data": {
      "text/plain": [
       "RandomForestClassifier()"
      ]
     },
     "execution_count": 6,
     "metadata": {},
     "output_type": "execute_result"
    }
   ],
   "source": [
    "# Initialize the model\n",
    "model = RandomForestClassifier()\n",
    "\n",
    "# Train the model\n",
    "model.fit(X_train, y_train)"
   ]
  },
  {
   "cell_type": "code",
   "execution_count": 7,
   "id": "2a188e4b",
   "metadata": {},
   "outputs": [],
   "source": [
    "# Evaluating the model and making predictions on test data\n",
    "y_pred = model.predict(X_test)"
   ]
  },
  {
   "cell_type": "code",
   "execution_count": 8,
   "id": "f753009f",
   "metadata": {},
   "outputs": [],
   "source": [
    "# Evaluate model performance\n",
    "accuracy = accuracy_score(y_test, y_pred)\n",
    "precision = precision_score(y_test, y_pred)\n",
    "recall = recall_score(y_test, y_pred)\n",
    "f1 = f1_score(y_test, y_pred)\n",
    "roc_auc = roc_auc_score(y_test, y_pred)\n",
    "conf_matrix = confusion_matrix(y_test, y_pred)"
   ]
  },
  {
   "cell_type": "code",
   "execution_count": 9,
   "id": "c04985b8",
   "metadata": {},
   "outputs": [
    {
     "name": "stdout",
     "output_type": "stream",
     "text": [
      "Model Performance:\n",
      "Accuracy: 0.9747374019412313\n",
      "Precision: 0.9831015349138863\n",
      "Recall: 0.9826766549016783\n",
      "F1 Score: 0.9828890489913544\n",
      "ROC AUC Score: 0.967504604511516\n",
      "Confusion Matrix:\n",
      "[[ 9370   469]\n",
      " [  481 27285]]\n"
     ]
    }
   ],
   "source": [
    "# Print results\n",
    "print(\"Model Performance:\")\n",
    "print(f\"Accuracy: {accuracy}\")\n",
    "print(f\"Precision: {precision}\")\n",
    "print(f\"Recall: {recall}\")\n",
    "print(f\"F1 Score: {f1}\")\n",
    "print(f\"ROC AUC Score: {roc_auc}\")\n",
    "print(\"Confusion Matrix:\")\n",
    "print(conf_matrix)"
   ]
  },
  {
   "cell_type": "markdown",
   "id": "4dd586f4",
   "metadata": {},
   "source": [
    "Overall Model Performance:\n",
    "\n",
    "Accuracy: 97.47% indicates that the model correctly predicts the class label for nearly 98% of instances.\n",
    "Precision: 98.31% suggests that when the model predicts a positive outcome (surplus energy), it is correct approximately 96% of the time.\n",
    "Recall: 98.26% indicates that the model correctly identifies around 96% of all actual positive instances.\n",
    "F1 Score: 98.28% is the harmonic mean of precision and recall, providing a balance between the two metrics.\n",
    "ROC AUC Score: 96.75% represents the area under the ROC curve, indicating the model's ability to distinguish between positive and negative classes.\n",
    "\n",
    "Analysis of False Positives through confusion matrix:\n",
    "\n",
    "False positives occur when the model predicts surplus energy (positive class) incorrectly when there is no surplus energy (negative class).\n",
    "In the confusion matrix, false positives are represented by the value in the top-right cell (469 in this case).\n",
    "False positives can lead to providing free energy to customers when it's not warranted, potentially resulting in financial losses for the company.\n",
    "Given the relatively low number of false positives compared to the total number of instances (469 out of 27,285), the model's performance in this aspect is generally good.\n",
    "However, even a small number of false positives can have significant implications, especially if the cost of providing free energy is high.\n",
    "\n",
    "Assumptions and Insights:\n",
    "\n",
    "The model demonstrates strong predictive performance overall, with high accuracy, precision, recall, F1 score, and ROC AUC score.\n",
    "The relatively low number of false positives indicates that the model is effective at minimizing incorrect predictions of surplus energy.\n",
    "False positives could still occur due to various reasons, such as fluctuations in renewable energy generation, inaccuracies in weather forecasting data, or limitations in the model's ability to capture complex patterns.\n",
    "To further minimize false positives, consider additional feature engineering, model tuning, or incorporating external factors that may influence energy surplus prediction.\n",
    "Continuous monitoring and validation of the model's performance are essential to ensure its reliability and effectiveness over time."
   ]
  },
  {
   "cell_type": "code",
   "execution_count": 10,
   "id": "c26a4296",
   "metadata": {},
   "outputs": [
    {
     "name": "stdout",
     "output_type": "stream",
     "text": [
      "Mean Cross-Validation Score for Solar Energy Prediction: 0.9710726308569102\n"
     ]
    }
   ],
   "source": [
    "from sklearn.model_selection import cross_val_score\n",
    "\n",
    "# Define the model for solar energy prediction\n",
    "model_solar = RandomForestClassifier()\n",
    "\n",
    "# Perform cross-validation for solar energy prediction\n",
    "cv_scores_solar = cross_val_score(model_solar, X, y, cv=5)  # Adjust cv value as needed\n",
    "\n",
    "# Calculate the mean cross-validation score for solar energy prediction\n",
    "mean_cv_score_solar = np.mean(cv_scores_solar)\n",
    "print(\"Mean Cross-Validation Score for Solar Energy Prediction:\", mean_cv_score_solar)"
   ]
  },
  {
   "cell_type": "markdown",
   "id": "47882325",
   "metadata": {},
   "source": [
    "The high mean cross-validation score of 0.9799 indicates robust and consistent performance of the model across different data subsets, suggesting strong generalization ability for predicting solar energy with high confidence."
   ]
  },
  {
   "cell_type": "markdown",
   "id": "3ee7ec8e",
   "metadata": {},
   "source": [
    "The root mean square error (RMSE) of 2.0596 suggests that, on average, the model's predictions for solar energy are approximately 2.05 units away from the actual values."
   ]
  },
  {
   "cell_type": "markdown",
   "id": "6155de49",
   "metadata": {},
   "source": [
    "The graph's alignment of forecasted and actual solar energy values reveals the model's ability to capture trends and seasonal patterns ineffectively. Stable predictions across time periods with minimal variability indicate confidence in the model's accuracy. Discrepancies between actual and forecasted values highlight areas for potential model refinement, such as addressing outliers or improving stability."
   ]
  },
  {
   "cell_type": "code",
   "execution_count": 20,
   "id": "a71966b0",
   "metadata": {},
   "outputs": [
    {
     "data": {
      "image/png": "[encoded data removed]",
      "text/plain": [
       "<Figure size 1000x600 with 1 Axes>"
      ]
     },
     "metadata": {},
     "output_type": "display_data"
    }
   ],
   "source": [
    "import pandas as pd\n",
    "import matplotlib.pyplot as plt\n",
    "\n",
    "# Assuming 'data1' is your DataFrame with time series data\n",
    "train_size = int(len(data1) * 0.8)\n",
    "X, y = data1.iloc[:train_size], data1.iloc[train_size:]\n",
    "\n",
    "# Seasonal Naive Forecasting\n",
    "forecast = []\n",
    "seasonality = 1  # Assuming monthly seasonality\n",
    "\n",
    "for i in range(len(y)):\n",
    "    forecast.append(X.iloc[i % seasonality]['solarenergy'])\n",
    "\n",
    "# Plotting actual vs. predicted values\n",
    "plt.figure(figsize=(10, 6))\n",
    "plt.plot(X.index, X['solarenergy'], label='Train')\n",
    "plt.plot(y.index, y['solarenergy'], label='Test')\n",
    "plt.plot(y.index, forecast, label='Forecast')\n",
    "plt.xlabel('frequency')\n",
    "plt.ylabel('Energy Surplus')\n",
    "plt.title('Seasonal Naive Forecast')\n",
    "plt.legend()\n",
    "plt.show()\n"
   ]
  },
  {
   "cell_type": "code",
   "execution_count": null,
   "id": "6a9e2081",
   "metadata": {},
   "outputs": [],
   "source": []
  }
 ],
 "metadata": {
  "kernelspec": {
   "display_name": "Python 3 (ipykernel)",
   "language": "python",
   "name": "python3"
  },
  "language_info": {
   "codemirror_mode": {
    "name": "ipython",
    "version": 3
   },
   "file_extension": ".py",
   "mimetype": "text/x-python",
   "name": "python",
   "nbconvert_exporter": "python",
   "pygments_lexer": "ipython3",
   "version": "3.7.13"
  }
 },
 "nbformat": 4,
 "nbformat_minor": 5
}
